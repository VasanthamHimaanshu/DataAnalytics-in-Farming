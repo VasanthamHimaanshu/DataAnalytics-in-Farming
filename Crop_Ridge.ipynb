{
 "cells": [
  {
   "cell_type": "code",
   "execution_count": 3,
   "id": "0cb2b1ce",
   "metadata": {},
   "outputs": [
    {
     "ename": "ModuleNotFoundError",
     "evalue": "No module named 'pandas'",
     "output_type": "error",
     "traceback": [
      "\u001b[1;31m---------------------------------------------------------------------------\u001b[0m",
      "\u001b[1;31mModuleNotFoundError\u001b[0m                       Traceback (most recent call last)",
      "\u001b[1;32mc:\\Users\\himaa\\OneDrive\\Desktop\\554\\3-2\\MiniProject\\Crop_Ridge.ipynb Cell 1\u001b[0m in \u001b[0;36m1\n\u001b[1;32m----> <a href='vscode-notebook-cell:/c%3A/Users/himaa/OneDrive/Desktop/554/3-2/MiniProject/Crop_Ridge.ipynb#W0sZmlsZQ%3D%3D?line=0'>1</a>\u001b[0m \u001b[39mimport\u001b[39;00m \u001b[39mpandas\u001b[39;00m \u001b[39mas\u001b[39;00m \u001b[39mpd\u001b[39;00m\n\u001b[0;32m      <a href='vscode-notebook-cell:/c%3A/Users/himaa/OneDrive/Desktop/554/3-2/MiniProject/Crop_Ridge.ipynb#W0sZmlsZQ%3D%3D?line=1'>2</a>\u001b[0m \u001b[39mfrom\u001b[39;00m \u001b[39mnumpy\u001b[39;00m \u001b[39mimport\u001b[39;00m arange\n\u001b[0;32m      <a href='vscode-notebook-cell:/c%3A/Users/himaa/OneDrive/Desktop/554/3-2/MiniProject/Crop_Ridge.ipynb#W0sZmlsZQ%3D%3D?line=2'>3</a>\u001b[0m \u001b[39mfrom\u001b[39;00m \u001b[39msklearn\u001b[39;00m\u001b[39m.\u001b[39;00m\u001b[39mlinear_model\u001b[39;00m \u001b[39mimport\u001b[39;00m Ridge\n",
      "\u001b[1;31mModuleNotFoundError\u001b[0m: No module named 'pandas'"
     ]
    }
   ],
   "source": [
    "import pandas as pd\n",
    "from numpy import arange\n",
    "from sklearn.linear_model import Ridge\n",
    "from sklearn.linear_model import RidgeCV\n",
    "from sklearn.model_selection import RepeatedKFold\n",
    "from sklearn.linear_model import Ridge\n",
    "from sklearn.metrics import mean_squared_error\n",
    "from sklearn.model_selection import train_test_split\n",
    "from sklearn.datasets import load_boston"
   ]
  },
  {
   "cell_type": "code",
   "execution_count": 2,
   "id": "9c89b712",
   "metadata": {},
   "outputs": [
    {
     "ename": "NameError",
     "evalue": "name 'pd' is not defined",
     "output_type": "error",
     "traceback": [
      "\u001b[1;31m---------------------------------------------------------------------------\u001b[0m",
      "\u001b[1;31mNameError\u001b[0m                                 Traceback (most recent call last)",
      "\u001b[1;32mc:\\Users\\himaa\\OneDrive\\Desktop\\554\\3-2\\MiniProject\\Crop_Ridge.ipynb Cell 2\u001b[0m in \u001b[0;36m1\n\u001b[1;32m----> <a href='vscode-notebook-cell:/c%3A/Users/himaa/OneDrive/Desktop/554/3-2/MiniProject/Crop_Ridge.ipynb#W1sZmlsZQ%3D%3D?line=0'>1</a>\u001b[0m data\u001b[39m=\u001b[39mpd\u001b[39m.\u001b[39mread_csv(\u001b[39m\"\u001b[39m\u001b[39mTelangana_yield.csv\u001b[39m\u001b[39m\"\u001b[39m)\n",
      "\u001b[1;31mNameError\u001b[0m: name 'pd' is not defined"
     ]
    }
   ],
   "source": [
    "data=pd.read_csv(\"Telangana_yield.csv\")"
   ]
  },
  {
   "cell_type": "code",
   "execution_count": 3,
   "id": "7ec50bd9",
   "metadata": {},
   "outputs": [
    {
     "data": {
      "text/html": [
       "<div>\n",
       "<style scoped>\n",
       "    .dataframe tbody tr th:only-of-type {\n",
       "        vertical-align: middle;\n",
       "    }\n",
       "\n",
       "    .dataframe tbody tr th {\n",
       "        vertical-align: top;\n",
       "    }\n",
       "\n",
       "    .dataframe thead th {\n",
       "        text-align: right;\n",
       "    }\n",
       "</style>\n",
       "<table border=\"1\" class=\"dataframe\">\n",
       "  <thead>\n",
       "    <tr style=\"text-align: right;\">\n",
       "      <th></th>\n",
       "      <th>State</th>\n",
       "      <th>District</th>\n",
       "      <th>Crop</th>\n",
       "      <th>Crop_Year</th>\n",
       "      <th>Season</th>\n",
       "      <th>Area</th>\n",
       "      <th>Production</th>\n",
       "      <th>Yield</th>\n",
       "    </tr>\n",
       "  </thead>\n",
       "  <tbody>\n",
       "    <tr>\n",
       "      <th>0</th>\n",
       "      <td>Telangana</td>\n",
       "      <td>JAGITIAL</td>\n",
       "      <td>Banana</td>\n",
       "      <td>2017</td>\n",
       "      <td>Kharif</td>\n",
       "      <td>86</td>\n",
       "      <td>5540.0</td>\n",
       "      <td>64.42</td>\n",
       "    </tr>\n",
       "    <tr>\n",
       "      <th>1</th>\n",
       "      <td>Telangana</td>\n",
       "      <td>JAGITIAL</td>\n",
       "      <td>Banana</td>\n",
       "      <td>2018</td>\n",
       "      <td>Kharif</td>\n",
       "      <td>26</td>\n",
       "      <td>1601.0</td>\n",
       "      <td>61.58</td>\n",
       "    </tr>\n",
       "    <tr>\n",
       "      <th>2</th>\n",
       "      <td>Telangana</td>\n",
       "      <td>JAGITIAL</td>\n",
       "      <td>Banana</td>\n",
       "      <td>2019</td>\n",
       "      <td>Kharif</td>\n",
       "      <td>36</td>\n",
       "      <td>2128.0</td>\n",
       "      <td>59.11</td>\n",
       "    </tr>\n",
       "    <tr>\n",
       "      <th>3</th>\n",
       "      <td>Telangana</td>\n",
       "      <td>JANGOAN</td>\n",
       "      <td>Banana</td>\n",
       "      <td>2018</td>\n",
       "      <td>Kharif</td>\n",
       "      <td>2</td>\n",
       "      <td>123.0</td>\n",
       "      <td>61.50</td>\n",
       "    </tr>\n",
       "    <tr>\n",
       "      <th>4</th>\n",
       "      <td>Telangana</td>\n",
       "      <td>JAYASHANKAR</td>\n",
       "      <td>Banana</td>\n",
       "      <td>2016</td>\n",
       "      <td>Kharif</td>\n",
       "      <td>94</td>\n",
       "      <td>4349.0</td>\n",
       "      <td>46.27</td>\n",
       "    </tr>\n",
       "    <tr>\n",
       "      <th>...</th>\n",
       "      <td>...</td>\n",
       "      <td>...</td>\n",
       "      <td>...</td>\n",
       "      <td>...</td>\n",
       "      <td>...</td>\n",
       "      <td>...</td>\n",
       "      <td>...</td>\n",
       "      <td>...</td>\n",
       "    </tr>\n",
       "    <tr>\n",
       "      <th>4336</th>\n",
       "      <td>Telangana</td>\n",
       "      <td>VIKARABAD</td>\n",
       "      <td>Wheat</td>\n",
       "      <td>2016</td>\n",
       "      <td>Rabi</td>\n",
       "      <td>147</td>\n",
       "      <td>184.0</td>\n",
       "      <td>1.25</td>\n",
       "    </tr>\n",
       "    <tr>\n",
       "      <th>4337</th>\n",
       "      <td>Telangana</td>\n",
       "      <td>VIKARABAD</td>\n",
       "      <td>Wheat</td>\n",
       "      <td>2017</td>\n",
       "      <td>Rabi</td>\n",
       "      <td>96</td>\n",
       "      <td>133.0</td>\n",
       "      <td>1.39</td>\n",
       "    </tr>\n",
       "    <tr>\n",
       "      <th>4338</th>\n",
       "      <td>Telangana</td>\n",
       "      <td>VIKARABAD</td>\n",
       "      <td>Wheat</td>\n",
       "      <td>2018</td>\n",
       "      <td>Rabi</td>\n",
       "      <td>92</td>\n",
       "      <td>173.0</td>\n",
       "      <td>1.88</td>\n",
       "    </tr>\n",
       "    <tr>\n",
       "      <th>4339</th>\n",
       "      <td>Telangana</td>\n",
       "      <td>VIKARABAD</td>\n",
       "      <td>Wheat</td>\n",
       "      <td>2019</td>\n",
       "      <td>Rabi</td>\n",
       "      <td>46</td>\n",
       "      <td>85.0</td>\n",
       "      <td>1.85</td>\n",
       "    </tr>\n",
       "    <tr>\n",
       "      <th>4340</th>\n",
       "      <td>Telangana</td>\n",
       "      <td>YADADRI</td>\n",
       "      <td>Wheat</td>\n",
       "      <td>2016</td>\n",
       "      <td>Rabi</td>\n",
       "      <td>1</td>\n",
       "      <td>1.0</td>\n",
       "      <td>1.00</td>\n",
       "    </tr>\n",
       "  </tbody>\n",
       "</table>\n",
       "<p>4341 rows × 8 columns</p>\n",
       "</div>"
      ],
      "text/plain": [
       "         State     District     Crop  Crop_Year       Season  Area   \\\n",
       "0     Telangana     JAGITIAL  Banana       2017  Kharif          86   \n",
       "1     Telangana     JAGITIAL  Banana       2018  Kharif          26   \n",
       "2     Telangana     JAGITIAL  Banana       2019  Kharif          36   \n",
       "3     Telangana      JANGOAN  Banana       2018  Kharif           2   \n",
       "4     Telangana  JAYASHANKAR  Banana       2016  Kharif          94   \n",
       "...         ...          ...     ...        ...          ...    ...   \n",
       "4336  Telangana    VIKARABAD   Wheat       2016  Rabi           147   \n",
       "4337  Telangana    VIKARABAD   Wheat       2017  Rabi            96   \n",
       "4338  Telangana    VIKARABAD   Wheat       2018  Rabi            92   \n",
       "4339  Telangana    VIKARABAD   Wheat       2019  Rabi            46   \n",
       "4340  Telangana      YADADRI   Wheat       2016  Rabi             1   \n",
       "\n",
       "      Production  Yield  \n",
       "0         5540.0  64.42  \n",
       "1         1601.0  61.58  \n",
       "2         2128.0  59.11  \n",
       "3          123.0  61.50  \n",
       "4         4349.0  46.27  \n",
       "...          ...    ...  \n",
       "4336       184.0   1.25  \n",
       "4337       133.0   1.39  \n",
       "4338       173.0   1.88  \n",
       "4339        85.0   1.85  \n",
       "4340         1.0   1.00  \n",
       "\n",
       "[4341 rows x 8 columns]"
      ]
     },
     "execution_count": 3,
     "metadata": {},
     "output_type": "execute_result"
    }
   ],
   "source": [
    "data"
   ]
  },
  {
   "cell_type": "code",
   "execution_count": 4,
   "id": "8e0734b6",
   "metadata": {},
   "outputs": [],
   "source": [
    "data=data.fillna(0)"
   ]
  },
  {
   "cell_type": "code",
   "execution_count": 5,
   "id": "31a488d3",
   "metadata": {},
   "outputs": [],
   "source": [
    "data=pd.get_dummies(data)"
   ]
  },
  {
   "cell_type": "code",
   "execution_count": 6,
   "id": "b3da1a19",
   "metadata": {},
   "outputs": [],
   "source": [
    "x=data.iloc[:,1:7].values\n",
    "y=data.iloc[:,6:7].values"
   ]
  },
  {
   "cell_type": "code",
   "execution_count": 7,
   "id": "93bacecd",
   "metadata": {},
   "outputs": [
    {
     "data": {
      "text/plain": [
       "array([[8.600e+01, 5.540e+03, 6.442e+01, 1.000e+00, 0.000e+00, 0.000e+00],\n",
       "       [2.600e+01, 1.601e+03, 6.158e+01, 1.000e+00, 0.000e+00, 0.000e+00],\n",
       "       [3.600e+01, 2.128e+03, 5.911e+01, 1.000e+00, 0.000e+00, 0.000e+00],\n",
       "       ...,\n",
       "       [9.200e+01, 1.730e+02, 1.880e+00, 1.000e+00, 0.000e+00, 0.000e+00],\n",
       "       [4.600e+01, 8.500e+01, 1.850e+00, 1.000e+00, 0.000e+00, 0.000e+00],\n",
       "       [1.000e+00, 1.000e+00, 1.000e+00, 1.000e+00, 0.000e+00, 0.000e+00]])"
      ]
     },
     "execution_count": 7,
     "metadata": {},
     "output_type": "execute_result"
    }
   ],
   "source": [
    "x"
   ]
  },
  {
   "cell_type": "code",
   "execution_count": 8,
   "id": "be831f2b",
   "metadata": {},
   "outputs": [
    {
     "data": {
      "text/plain": [
       "array([[0],\n",
       "       [0],\n",
       "       [0],\n",
       "       ...,\n",
       "       [0],\n",
       "       [0],\n",
       "       [0]], dtype=uint8)"
      ]
     },
     "execution_count": 8,
     "metadata": {},
     "output_type": "execute_result"
    }
   ],
   "source": [
    "y"
   ]
  },
  {
   "cell_type": "code",
   "execution_count": 9,
   "id": "7478c1b9",
   "metadata": {},
   "outputs": [],
   "source": [
    "from sklearn .model_selection import train_test_split\n",
    "x_train, x_test, y_train, y_test= train_test_split(x,y,test_size=1/4, \n",
    "random_state=0)"
   ]
  },
  {
   "cell_type": "code",
   "execution_count": 19,
   "id": "e0807606",
   "metadata": {},
   "outputs": [],
   "source": [
    "alpha = 0.1  \n",
    "ridge = Ridge(alpha=alpha)"
   ]
  },
  {
   "cell_type": "code",
   "execution_count": 21,
   "id": "76168910",
   "metadata": {},
   "outputs": [
    {
     "data": {
      "text/plain": [
       "Ridge(alpha=0.1)"
      ]
     },
     "execution_count": 21,
     "metadata": {},
     "output_type": "execute_result"
    }
   ],
   "source": [
    "ridge.fit(x_train, y_train)"
   ]
  },
  {
   "cell_type": "code",
   "execution_count": 23,
   "id": "d9e2339b",
   "metadata": {},
   "outputs": [],
   "source": [
    "y_pred = ridge.predict(x_test)"
   ]
  },
  {
   "cell_type": "code",
   "execution_count": 24,
   "id": "030bf286",
   "metadata": {},
   "outputs": [],
   "source": [
    "mse = mean_squared_error(y_test, y_pred)"
   ]
  },
  {
   "cell_type": "code",
   "execution_count": 27,
   "id": "e50f8e19",
   "metadata": {},
   "outputs": [
    {
     "data": {
      "text/plain": [
       "4.133497821501154e-08"
      ]
     },
     "execution_count": 27,
     "metadata": {},
     "output_type": "execute_result"
    }
   ],
   "source": [
    "mse"
   ]
  },
  {
   "cell_type": "code",
   "execution_count": 28,
   "id": "d92569d2",
   "metadata": {},
   "outputs": [
    {
     "name": "stdout",
     "output_type": "stream",
     "text": [
      "Ridge Regression with alpha=0.1\n",
      "Coefficients: [[-1.52447588e-10 -1.26338818e-12 -1.62302324e-09  0.00000000e+00\n",
      "  -3.29197095e-05  9.98668964e-01]]\n",
      "Intercept: [3.48213029e-05]\n",
      "Mean Squared Error: 4.133497821501154e-08\n"
     ]
    }
   ],
   "source": [
    "print(f\"Ridge Regression with alpha={alpha}\")\n",
    "print(f\"Coefficients: {ridge.coef_}\")\n",
    "print(f\"Intercept: {ridge.intercept_}\")\n",
    "print(f\"Mean Squared Error: {mse}\")\n",
    "#0.00000004133497821501154."
   ]
  },
  {
   "cell_type": "code",
   "execution_count": null,
   "id": "7e2c23ea",
   "metadata": {},
   "outputs": [],
   "source": []
  },
  {
   "cell_type": "code",
   "execution_count": null,
   "id": "00a08ad6",
   "metadata": {},
   "outputs": [],
   "source": []
  }
 ],
 "metadata": {
  "kernelspec": {
   "display_name": "Python 3 (ipykernel)",
   "language": "python",
   "name": "python3"
  },
  "language_info": {
   "codemirror_mode": {
    "name": "ipython",
    "version": 3
   },
   "file_extension": ".py",
   "mimetype": "text/x-python",
   "name": "python",
   "nbconvert_exporter": "python",
   "pygments_lexer": "ipython3",
   "version": "3.10.11"
  }
 },
 "nbformat": 4,
 "nbformat_minor": 5
}
